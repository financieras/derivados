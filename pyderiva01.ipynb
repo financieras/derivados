{
  "nbformat": 4,
  "nbformat_minor": 0,
  "metadata": {
    "colab": {
      "name": "pyderiva01.ipynb",
      "provenance": [],
      "authorship_tag": "ABX9TyOUb0K+112KAa5ZPHfwz5VJ",
      "include_colab_link": true
    },
    "kernelspec": {
      "name": "python3",
      "display_name": "Python 3"
    },
    "language_info": {
      "name": "python"
    }
  },
  "cells": [
    {
      "cell_type": "markdown",
      "metadata": {
        "id": "view-in-github",
        "colab_type": "text"
      },
      "source": [
        "<a href=\"https://colab.research.google.com/github/financieras/derivados22/blob/main/pyderiva01.ipynb\" target=\"_parent\"><img src=\"https://colab.research.google.com/assets/colab-badge.svg\" alt=\"Open In Colab\"/></a>"
      ]
    },
    {
      "cell_type": "markdown",
      "source": [
        "# Programación en Python"
      ],
      "metadata": {
        "id": "-V3kb15V02sg"
      }
    },
    {
      "cell_type": "code",
      "execution_count": 1,
      "metadata": {
        "colab": {
          "base_uri": "https://localhost:8080/"
        },
        "id": "fXjIz4tN0rdU",
        "outputId": "ad75da97-9ba2-48b8-fe47-3b0541dd2886"
      },
      "outputs": [
        {
          "output_type": "stream",
          "name": "stdout",
          "text": [
            "Bienvenidos al mundo de las Finazas\n"
          ]
        }
      ],
      "source": [
        "print(\"Bienvenidos al mundo de las Finazas\")"
      ]
    }
  ]
}