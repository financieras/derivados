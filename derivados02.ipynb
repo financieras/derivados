{
  "nbformat": 4,
  "nbformat_minor": 0,
  "metadata": {
    "colab": {
      "name": "derivados02.ipynb",
      "provenance": [],
      "authorship_tag": "ABX9TyPSj2Prn5ZQGVxY/cMeXzq+",
      "include_colab_link": true
    },
    "kernelspec": {
      "name": "python3",
      "display_name": "Python 3"
    },
    "language_info": {
      "name": "python"
    }
  },
  "cells": [
    {
      "cell_type": "markdown",
      "metadata": {
        "id": "view-in-github",
        "colab_type": "text"
      },
      "source": [
        "<a href=\"https://colab.research.google.com/github/financieras/derivados2022/blob/main/derivados02.ipynb\" target=\"_parent\"><img src=\"https://colab.research.google.com/assets/colab-badge.svg\" alt=\"Open In Colab\"/></a>"
      ]
    },
    {
      "cell_type": "markdown",
      "source": [
        "# Calcular el precio de un bono\n",
        "## Calcular el precio de un bono utilizando la TIR\n",
        "Supongamos un bono con las siguientes características:\n",
        "* Nominal 1.000 €\n",
        "* Cupón anual 10%\n",
        "* Madura al quinto año\n",
        "* TIR: r = 8%\n",
        "\n",
        "Se pide:\n",
        "* Calcular el precio del bono\n",
        "* Una vez conocido el precio del bono, comprobar que la TIR coincide con el dato proporcionado\n",
        "\n"
      ],
      "metadata": {
        "id": "JmYBhyuovEeU"
      }
    },
    {
      "cell_type": "code",
      "source": [
        "pip install numpy-financial"
      ],
      "metadata": {
        "colab": {
          "base_uri": "https://localhost:8080/"
        },
        "id": "9Bxe_9100HAc",
        "outputId": "05428cb4-86c4-44f0-b931-eccf45c3db8d"
      },
      "execution_count": 8,
      "outputs": [
        {
          "output_type": "stream",
          "name": "stdout",
          "text": [
            "Collecting numpy-financial\n",
            "  Downloading numpy_financial-1.0.0-py3-none-any.whl (14 kB)\n",
            "Requirement already satisfied: numpy>=1.15 in /usr/local/lib/python3.7/dist-packages (from numpy-financial) (1.19.5)\n",
            "Installing collected packages: numpy-financial\n",
            "Successfully installed numpy-financial-1.0.0\n"
          ]
        }
      ]
    },
    {
      "cell_type": "code",
      "source": [
        "import numpy_financial as npf\n",
        "\n",
        "# DATOS DEL BONO\n",
        "nominal = 1000\n",
        "cupon = 0.1\n",
        "n = 5  # años\n",
        "r = 0.08\n",
        "\n",
        "# FLUJOS DE CAJA\n",
        "flujos = [0]\n",
        "for i in range(1, n+1):\n",
        "    if i < n:\n",
        "        flujos.append(cupon * nominal)\n",
        "    elif i == n:\n",
        "        flujos.append(cupon * nominal + nominal)\n",
        "print(\"Flujos de caja: \", flujos)\n",
        "\n",
        "# PRECIO DEL BONO\n",
        "precio = 0\n",
        "for i in range(1, n+1):\n",
        "    precio += flujos[i] / (1+r)**i\n",
        "print(\"Precio del bono:\", precio)\n",
        "bono = flujos[:]\n",
        "bono[0] = -precio\n",
        "\n",
        "# COMPROBACIÓN TIR = r\n",
        "tir = npf.irr(bono)\n",
        "print(f\"La TIR del bono es: {tir:.5%}\")  # Internal rate of return"
      ],
      "metadata": {
        "colab": {
          "base_uri": "https://localhost:8080/"
        },
        "id": "BICvhexvwKSV",
        "outputId": "d4e19ca6-0bab-4020-ce77-0f33b54cb860"
      },
      "execution_count": 11,
      "outputs": [
        {
          "output_type": "stream",
          "name": "stdout",
          "text": [
            "Flujos de caja:  [0, 100.0, 100.0, 100.0, 100.0, 1100.0]\n",
            "Precio del bono: 1079.8542007415613\n",
            "La TIR del bono es: 8.00000%\n"
          ]
        }
      ]
    },
    {
      "cell_type": "markdown",
      "source": [
        "## Calcular el precio de un bono utilizando la ETTI\n",
        "Supongamos un bono con las siguientes características:\n",
        "* Nominal 1.000 €\n",
        "* Cupón anual 10%\n",
        "* Madura al quinto año\n",
        "* La ETTI para los diferentes años es:\n",
        " - año 1: 2%\n",
        " - año 2: 4%\n",
        " - año 3: 6%\n",
        " - año 4: 8%\n",
        " - año 5: 10%\n",
        "\n",
        "Se pide:\n",
        "* Calcular el precio del bono\n",
        "* Calcular la TIR"
      ],
      "metadata": {
        "id": "M-sr_4rn03-f"
      }
    },
    {
      "cell_type": "code",
      "source": [
        "# DATOS\n",
        "nominal = 1000\n",
        "cupon = 0.1\n",
        "n = 5 # años\n",
        "r01 = 0.02\n",
        "r02 = 0.04\n",
        "r03 = 0.06\n",
        "r04 = 0.08\n",
        "r05 = 0.10\n",
        "etti = [r01,r02,r03,r04,r05]\n",
        "\n",
        "# FLUJOS DE CAJA\n",
        "flujos = [0]\n",
        "for i in range(1, n+1):\n",
        "    if i < n:\n",
        "        flujos.append(cupon * nominal)\n",
        "    elif i == n:\n",
        "        flujos.append(cupon * nominal + nominal)\n",
        "print(\"Flujos de caja: \", flujos)\n",
        "\n",
        "# PRECIO DEL BONO CON LA ETTI\n",
        "precio = 0\n",
        "for i in range(1, n+1):\n",
        "    precio += flujos[i] / (1+etti[i-1])**i\n",
        "print(\"Precio del bono:\", precio)\n",
        "bono = flujos[:]\n",
        "bono[0] = -precio\n",
        "\n",
        "# CALCULAR LA TIR DEL BONO TIR = r\n",
        "tir = npf.irr(bono)\n",
        "print(f\"La TIR del bono es: {tir:.5%}\")  # Internal rate of return"
      ],
      "metadata": {
        "colab": {
          "base_uri": "https://localhost:8080/"
        },
        "id": "C4avZNvy1cVw",
        "outputId": "34c83176-d8d6-4e40-c0e8-1af8cfc00fad"
      },
      "execution_count": 12,
      "outputs": [
        {
          "output_type": "stream",
          "name": "stdout",
          "text": [
            "Flujos de caja:  [0, 100.0, 100.0, 100.0, 100.0, 1100.0]\n",
            "Precio del bono: 1030.9732059359958\n",
            "La TIR del bono es: 9.19957%\n"
          ]
        }
      ]
    }
  ]
}