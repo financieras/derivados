{
  "nbformat": 4,
  "nbformat_minor": 0,
  "metadata": {
    "colab": {
      "name": "derivados02.ipynb",
      "provenance": [],
      "authorship_tag": "ABX9TyO10PPDXIpSIZp8id3E3KQL",
      "include_colab_link": true
    },
    "kernelspec": {
      "name": "python3",
      "display_name": "Python 3"
    },
    "language_info": {
      "name": "python"
    }
  },
  "cells": [
    {
      "cell_type": "markdown",
      "metadata": {
        "id": "view-in-github",
        "colab_type": "text"
      },
      "source": [
        "<a href=\"https://colab.research.google.com/github/financieras/derivados2022/blob/main/derivados02.ipynb\" target=\"_parent\"><img src=\"https://colab.research.google.com/assets/colab-badge.svg\" alt=\"Open In Colab\"/></a>"
      ]
    },
    {
      "cell_type": "markdown",
      "source": [
        "# Calcular el precio de un bono\n",
        "Puede consultar el archivo de Excel: [excel_para_pyhton.xlsm](https://www.dropbox.com/s/wzq2y2k97c1d6rg/excel_para_pyhton.xlsm?dl=1)"
      ],
      "metadata": {
        "id": "B4bN27eR0sZc"
      }
    },
    {
      "cell_type": "markdown",
      "source": [
        "## Precio utilizando la TIR\n",
        "Supongamos un bono con las siguientes características:\n",
        "* Nominal 1.000 €\n",
        "* Cupón anual 10%\n",
        "* Madura al quinto año\n",
        "* TIR: r = 8%\n",
        "\n",
        "Se pide:\n",
        "* Calcular el precio del bono\n",
        "* Una vez conocido el precio del bono, comprobar que la TIR coincide con el dato proporcionado\n",
        "\n"
      ],
      "metadata": {
        "id": "JmYBhyuovEeU"
      }
    },
    {
      "cell_type": "code",
      "source": [
        "pip install numpy-financial"
      ],
      "metadata": {
        "id": "9Bxe_9100HAc"
      },
      "execution_count": null,
      "outputs": []
    },
    {
      "cell_type": "code",
      "source": [
        "import numpy_financial as npf\n",
        "\n",
        "# DATOS DEL BONO\n",
        "nominal = 1000\n",
        "cupon = 0.1\n",
        "n = 5  # años\n",
        "r = 0.08\n",
        "\n",
        "# FLUJOS DE CAJA\n",
        "flujos = [0]\n",
        "for i in range(1, n+1):\n",
        "    if i < n:\n",
        "        flujos.append(cupon * nominal)\n",
        "    elif i == n:\n",
        "        flujos.append(cupon * nominal + nominal)\n",
        "print(\"Flujos de caja: \", flujos)\n",
        "\n",
        "# PRECIO DEL BONO\n",
        "precio = 0\n",
        "for i in range(1, n+1):\n",
        "    precio += flujos[i] / (1+r)**i\n",
        "print(\"Precio del bono:\", precio)\n",
        "bono = flujos[:]\n",
        "bono[0] = -precio\n",
        "\n",
        "# COMPROBACIÓN TIR = r\n",
        "tir = npf.irr(bono)\n",
        "print(f\"La TIR del bono es: {tir:.5%}\")  # Internal rate of return"
      ],
      "metadata": {
        "id": "BICvhexvwKSV"
      },
      "execution_count": null,
      "outputs": []
    },
    {
      "cell_type": "markdown",
      "source": [
        "## Precio utilizando la ETTI\n",
        "Supongamos un bono con las siguientes características:\n",
        "* Nominal 1.000 €\n",
        "* Cupón anual 10%\n",
        "* Madura al quinto año\n",
        "* La ETTI para los diferentes años es:\n",
        " - año 1: 2%\n",
        " - año 2: 4%\n",
        " - año 3: 6%\n",
        " - año 4: 8%\n",
        " - año 5: 10%\n",
        "\n",
        "Se pide:\n",
        "* Calcular el precio del bono\n",
        "* Calcular la TIR"
      ],
      "metadata": {
        "id": "M-sr_4rn03-f"
      }
    },
    {
      "cell_type": "code",
      "source": [
        "import numpy_financial as npf\n",
        "\n",
        "# DATOS\n",
        "nominal = 1000\n",
        "cupon = 0.1\n",
        "n = 5 # años\n",
        "r01 = 0.02\n",
        "r02 = 0.04\n",
        "r03 = 0.06\n",
        "r04 = 0.08\n",
        "r05 = 0.10\n",
        "etti = [r01,r02,r03,r04,r05]\n",
        "\n",
        "# FLUJOS DE CAJA\n",
        "flujos = [0]\n",
        "for i in range(1, n+1):\n",
        "    if i < n:\n",
        "        flujos.append(cupon * nominal)\n",
        "    elif i == n:\n",
        "        flujos.append(cupon * nominal + nominal)\n",
        "print(\"Flujos de caja: \", flujos)\n",
        "\n",
        "# PRECIO DEL BONO CON LA ETTI\n",
        "precio = 0\n",
        "for i in range(1, n+1):\n",
        "    precio += flujos[i] / (1+etti[i-1])**i\n",
        "print(\"Precio del bono:\", precio)\n",
        "bono = flujos[:]\n",
        "bono[0] = -precio\n",
        "\n",
        "# CALCULAR LA TIR DEL BONO TIR = r\n",
        "tir = npf.irr(bono)\n",
        "print(f\"La TIR del bono es: {tir:.6%}\")  # Internal rate of return"
      ],
      "metadata": {
        "id": "C4avZNvy1cVw"
      },
      "execution_count": null,
      "outputs": []
    },
    {
      "cell_type": "markdown",
      "source": [
        "# Creación de un bono sintético cupón cero\n",
        "Supongamos dos bonos A y B, ambos a 5 años con las siguientes características:\n",
        "* Bono A\n",
        " - Nominal: 10.000 €\n",
        " - Cupón anual: 2%\n",
        "* Bono B\n",
        " - Nominal: 4.000 €\n",
        " - Cupón anual: 25%\n",
        "* La ETTI para los diferentes años es:\n",
        " - año 1: 2%\n",
        " - año 2: 4%\n",
        " - año 3: 6%\n",
        " - año 4: 8%\n",
        " - año 5: 10%\n",
        "\n",
        "Se pide:\n",
        "* Calcular el precio de ambos bonos\n",
        "* Calcular la TIR de ambos bonos\n",
        "* Crear el bono C que es un bono sintético que se forma combinando los bonos A y B para conseguir un bono cupón cero a 5 años.\n",
        "* Calcular la TIR del bono C y comprobar que es igual a la ETTI a 5 años, que es del 10%."
      ],
      "metadata": {
        "id": "E_9tdEMnmZTT"
      }
    },
    {
      "cell_type": "code",
      "source": [
        "import numpy_financial as npf\n",
        "\n",
        "# DATOS BONO A\n",
        "nominalA = 10_000\n",
        "cuponA = 0.02\n",
        "n = 5 # años, para A y B\n",
        "# DATOS BONO B\n",
        "nominalB = 4_000\n",
        "cuponB = 0.25\n",
        "# ETTI\n",
        "etti =[.02,.04,.06,.08,.10]\n",
        "\n",
        "# FLUJOS DE CAJA DE LOS BONOS\n",
        "def flujos(nominal, cupon, n):\n",
        "    cf = [0]  # array con el cash flow\n",
        "    for i in range(1, n+1):\n",
        "        if i < n:\n",
        "            cf.append(cupon * nominal)\n",
        "        elif i == n:\n",
        "            cf.append(cupon * nominal + nominal)\n",
        "    return cf\n",
        "\n",
        "# Flujos de caja de los Bonos A y B\n",
        "flujosA = flujos(nominalA, cuponA, n)\n",
        "flujosB = flujos(nominalB, cuponB, n)\n",
        "\n",
        "# PRECIO DE UN BONO CON LA ETTI\n",
        "def precio_etti(flujos, etti):\n",
        "    precio = 0\n",
        "    for i in range(1, n+1):\n",
        "        precio += flujos[i] * (1+etti[i-1])**-i\n",
        "    return precio\n",
        "\n",
        "# Precios de los Bonos A y B\n",
        "precioA = precio_etti(flujosA, etti)\n",
        "precioB = precio_etti(flujosB, etti)\n",
        "print(f\"El precio del bono A es {precioA}\")\n",
        "print(f\"El precio del bono B es {precioB}\")\n",
        "# Flujos de caja de los bonos A y B\n",
        "bonoA = flujosA[:]\n",
        "bonoA[0] = -precioA\n",
        "bonoB = flujosB[:]\n",
        "bonoB[0] = -precioB\n",
        "\n",
        "# Creación del bono sintético C\n",
        "# m es el número de bonos que se han de comprar o vender de uno de los tipos\n",
        "#m = (cuponB*nominalB)/(cuponA*nominalA)\n",
        "m = max((cuponA*nominalA)/(cuponB*nominalB), (cuponB*nominalB)/(cuponA*nominalA))\n",
        "# Flujos de caja del bono C\n",
        "bonoC = [0]*(n+1)\n",
        "for i in range(0, n+1):\n",
        "    bonoC[i] = m*bonoA[i] - bonoB[i]\n",
        "print(f\"Flujos de caja del bono C: {bonoC}\")\n",
        "\n",
        "# Calcular la TIR de los bonos\n",
        "tirA = npf.irr(bonoA)\n",
        "tirB = npf.irr(bonoB)\n",
        "tirC = npf.irr(bonoC)\n",
        "print(f\"La TIR del bono A es: {tirA:.6%}\")\n",
        "print(f\"La TIR del bono B es: {tirB:.6%}\")\n",
        "print(f\"La TIR del bono C es: {tirC:.6%}\")"
      ],
      "metadata": {
        "id": "ZVQQqkConm5R"
      },
      "execution_count": null,
      "outputs": []
    },
    {
      "cell_type": "markdown",
      "source": [
        "# Reinversión de flujos de caja intermedios\n",
        "La importancia de trabajar con bonos cupón cero.\n",
        "\n",
        "La TIR es la Tasa Interna de Rentabilidad, la palabra 'Interna' indica que si la operación financiera analizada se mezcla con otras operaciones la rentabilidad prometida por la TIR se podría alterar.\n",
        "\n",
        "Una operación de inversión que tenga flujos de caja intermedios, por ejemplo un bono cupón explícito, puede no proporcionar a su propietario la rentabilidad que promete la TIR del bono si el inversor no se preocupa de reinvertir los flujos de caja intermedios hasta el final de la operación.\n",
        "\n",
        "Supongamos un bono cupón explícito con las siguientes características:\n",
        "* Nominal 10.000 €\n",
        "* Cupón 10%\n",
        "* Madura a los 10 años\n",
        "* Precio de adquisición 10.000 €\n",
        "\n",
        "Se pide:\n",
        "* Calcular la TIR del bono\n",
        "* Calcular la rentabilidad del inversor supueto que reinvierta los flujos de caja intermedios hasta el momento de vencimiento, a las siguientes rentabilidades:\n",
        " - al 0%\n",
        " - al 10%\n",
        " - al 20%\n",
        "* Crear un bono cupón cero, al mismo plazo, por el mismo precio, cuyo último flujo de caja sea el necesario para proporcionar una rentabilidad del 10% y comprobar que su TIR es de 10%."
      ],
      "metadata": {
        "id": "8SVSQyGs1H0P"
      }
    },
    {
      "cell_type": "code",
      "source": [
        "import numpy_financial as npf\n",
        "\n",
        "# DATOS\n",
        "nominal = 10_000\n",
        "cupon = .1\n",
        "n = 10 # años\n",
        "precio = 10_000\n",
        "\n",
        "# Flujos de caja del bono\n",
        "cf = [0]*(n+1)\n",
        "for i in range(1,n+1):\n",
        "    cf[i] = cupon * nominal\n",
        "cf[n] += nominal\n",
        "cf[0] = -precio\n",
        "\n",
        "print(f\"La TIR del bono es: {npf.irr(cf):.2%}\")\n",
        "\n",
        "# Montante de la Reinversión\n",
        "def montante(cf,r):\n",
        "    m = 0 # montante\n",
        "    for i in range(1, n+1):\n",
        "        m += cf[i]*(1+r)**(n-i)\n",
        "    return m\n",
        "\n",
        "tasas_reinversion = [0,.1,.2]\n",
        "for t in tasas_reinversion:\n",
        "    m = montante(cf,t)\n",
        "    print()\n",
        "    print(f\"El montante reinvirtiendo al tanto del {t:.0%} es {m:,.2f} €\")\n",
        "    print(f\"La rentabilidad del inversor reinvirtiendo al tanto {t} es {(m/precio)**(1/n)-1:.2%}\")"
      ],
      "metadata": {
        "id": "n6mxKhMZ69qn"
      },
      "execution_count": null,
      "outputs": []
    },
    {
      "cell_type": "markdown",
      "source": [
        "# Comparación entre una inversión cierta y otra aleatoria\n",
        "Comparemos dos inversiones A y B, ambas de duración 1 año y que proporcionan ambas un 10% anual, con una inversión de un millón de euros cada una. La inversión A es cierta, esto supone que existe un 100% de probabilidad de que el flujo de caja final sea 1.100.000 €. La inversión B, tiene una probabilidad del 1% de que el montante final sea m1, y una probabilidad del 99% de que el montante final sea m2.  \n",
        "Se pide:  \n",
        "* Si m1 = 0, calcular m2, para que la rentabilidad esperada de la inversión B sea del 10%\n",
        "* Si m1 = 500.000, calcular m2, para que la rentabildidad esperada de B sea el 10%\n",
        "* Comprobar que la TIR de ambas inversiones es del 10%"
      ],
      "metadata": {
        "id": "PimtEH6Pdmkf"
      }
    },
    {
      "cell_type": "markdown",
      "source": [
        "# Forward $r_{12}$ conocidos dos bonos\n",
        "Dados los bonos A y B calcular la TIR del bono C.\n",
        "* El bono A es un bono cupón cero de duración un año y TIR del 10%\n",
        "* El bono B es un bono cupón explícito de 4.400 € anuales,  nominal 10.000 €, duración 2 años y precio de 14.000 €\n",
        "* El bono C es un bono cupón cero a dos años, que se obtiene como bono sintético combinando los bonos A y B"
      ],
      "metadata": {
        "id": "RciGu9_wF5Sg"
      }
    },
    {
      "cell_type": "code",
      "source": [
        "import numpy_financial as npf\n",
        "\n",
        "nominalA = 8800\n",
        "bonoB = [-14000, 4400, 14400]\n",
        "bonoA = [-nominalA/1.1, nominalA, 0]\n",
        "m = bonoA[1]/bonoB[1]\n",
        "print(f\"El multiplicador m es {m}\")\n",
        "bonoC = [m*bonoB[0]-bonoA[0], m*bonoB[1]-bonoA[1], m*bonoB[2]-bonoA[2]]\n",
        "print(\"Bono C: \", bonoC)\n",
        "tirC = npf.irr(bonoC)\n",
        "print(f\"La TIR del bono C es: {tirC:.6%}\")"
      ],
      "metadata": {
        "id": "_iuezG3YGIkK"
      },
      "execution_count": null,
      "outputs": []
    }
  ]
}