{
  "nbformat": 4,
  "nbformat_minor": 0,
  "metadata": {
    "colab": {
      "name": "derivados03.ipynb",
      "provenance": [],
      "authorship_tag": "ABX9TyNushSVnClDkQ8w4FPgl8rn",
      "include_colab_link": true
    },
    "kernelspec": {
      "name": "python3",
      "display_name": "Python 3"
    },
    "language_info": {
      "name": "python"
    }
  },
  "cells": [
    {
      "cell_type": "markdown",
      "metadata": {
        "id": "view-in-github",
        "colab_type": "text"
      },
      "source": [
        "<a href=\"https://colab.research.google.com/github/financieras/derivados2022/blob/main/derivados03.ipynb\" target=\"_parent\"><img src=\"https://colab.research.google.com/assets/colab-badge.svg\" alt=\"Open In Colab\"/></a>"
      ]
    },
    {
      "cell_type": "markdown",
      "source": [
        "# Arbitraje\n",
        "Puede consultar el archivo de Excel: [arbitraje_con_bonos.xlsx](https://www.dropbox.com/s/vom9tvkf0upfl4b/arbitraje_con_bonos.xlsx?dl=1)\n",
        "\n",
        "\n",
        "## Ejemplo sencillo\n",
        "Puede ver la **Hoja1** del documento de Excel.\n",
        "\n",
        "Supongamos dos fruterías donde venden el mismo tipo de manzana.\n",
        "* Tienda A: precio 100 céntimos/Kg\n",
        "* Tienda B: precio 160 céntimos/Kg\n",
        "\n",
        "Operamos bajo el supuesto de que en cada tienda podemos comprar o vender las manzanas.\n",
        "\n",
        "Estrategia de arbitraje:\n",
        "* Compramos las manzanas en la tiena A, donde el precio es más barato\n",
        "* Vendemos las manzanas en la tienda B, donde el precio es más caro\n",
        "\n",
        "La estrategia consiste en comprar el activo infravalorado y vender el activo sobrevalorado.\n",
        "\n",
        "De esta forma estaríamos ganando la diferencia.\n",
        "\n",
        "## Introduciendo intereses\n",
        "Supongamos que el caso anterior de compraventa no se produce simultáneamente en el tiempo y que necesitamos financiar nuestra compra durante un tiempo.\n",
        "* Duración de la operación: 1 año\n",
        "* Tipo de interés: 10% anual\n",
        "* En t=0 pedimos un prestamo de 100 para comprar en la tienda A\n",
        "* En t=0 compramos las manzanas en la tienda A por 100\n",
        "* En t=1 vendemos las manzanas en la tienda B por 160\n",
        "* En t=1 devolvemos el préstamo 100*(1+0.1) = 110\n",
        "* Beneficio obtenido:\n",
        " - Método 1: 160-100-10 = 50 en t=1\n",
        " - Método 2: 100-100+160-110 = 50 en t=1\n"
      ],
      "metadata": {
        "id": "a0oZL-JNj_L0"
      }
    },
    {
      "cell_type": "code",
      "execution_count": 3,
      "metadata": {
        "colab": {
          "base_uri": "https://localhost:8080/"
        },
        "id": "XeU3JN-pj-Hb",
        "outputId": "b052cb63-5895-4dd4-f17f-742bb5839406"
      },
      "outputs": [
        {
          "output_type": "stream",
          "name": "stdout",
          "text": [
            "Los flujos de caja de la operación en los diferentes años son: [0, 50.0]\n"
          ]
        }
      ],
      "source": [
        "precioA = 100\n",
        "precioB = 160\n",
        "n = 1          # duración en años\n",
        "Co = precioA   # Capital inicial prestado\n",
        "r = .1         # tipo de interés anual\n",
        "Cn = Co*(1+r)**n\n",
        "flujos_caja = [Co-precioA, round(precioB-Cn,8)]\n",
        "print(f\"Los flujos de caja de la operación en los diferentes años son: {flujos_caja}\")"
      ]
    }
  ]
}